{
 "cells": [
  {
   "cell_type": "markdown",
   "id": "25d7736c-ba17-4aff-b6bb-66eba20fbf4e",
   "metadata": {},
   "source": [
    "# Lab | Functions"
   ]
  },
  {
   "cell_type": "markdown",
   "id": "0c581062-8967-4d93-b06e-62833222f930",
   "metadata": {
    "tags": []
   },
   "source": [
    "## Exercise: Managing Customer Orders with Functions\n",
    "\n",
    "In the previous exercise, you improved the code for managing customer orders by using loops and flow control. Now, let's take it a step further and refactor the code by introducing functions.\n",
    "\n",
    "Follow the steps below to complete the exercise:\n",
    "\n",
    "1. Define a function named `initialize_inventory` that takes `products` as a parameter. Inside the function, implement the code for initializing the inventory dictionary using a loop and user input.\n",
    "\n",
    "2. Define a function named `get_customer_orders` that takes no parameters. Inside the function, implement the code for prompting the user to enter the product names using a loop. The function should return the `customer_orders` set.\n",
    "\n",
    "3. Define a function named `update_inventory` that takes `customer_orders` and `inventory` as parameters. Inside the function, implement the code for updating the inventory dictionary based on the customer orders.\n",
    "\n",
    "4. Define a function named `calculate_order_statistics` that takes `customer_orders` and `products` as parameters. Inside the function, implement the code for calculating the order statistics (total products ordered, and percentage of unique products ordered). The function should return these values.\n",
    "\n",
    "5. Define a function named `print_order_statistics` that takes `order_statistics` as a parameter. Inside the function, implement the code for printing the order statistics.\n",
    "\n",
    "6. Define a function named `print_updated_inventory` that takes `inventory` as a parameter. Inside the function, implement the code for printing the updated inventory.\n",
    "\n",
    "7. Call the functions in the appropriate sequence to execute the program and manage customer orders.\n",
    "\n",
    "Hints for functions:\n",
    "\n",
    "- Consider the input parameters required for each function and their return values.\n",
    "- Utilize function parameters and return values to transfer data between functions.\n",
    "- Test your functions individually to ensure they work correctly.\n",
    "\n",
    "\n"
   ]
  },
  {
   "cell_type": "code",
   "execution_count": 9,
   "id": "3bcb2f80-3c42-48b8-9df0-102dd9d71f7c",
   "metadata": {},
   "outputs": [
    {
     "name": "stdin",
     "output_type": "stream",
     "text": [
      "How many items of product t-shirt are in the inventory? 125\n",
      "How many items of product mug are in the inventory? 52\n",
      "How many items of product hat are in the inventory? 12\n",
      "How many items of product book are in the inventory? 75\n",
      "How many items of product keychain are in the inventory? 65\n"
     ]
    },
    {
     "data": {
      "text/plain": [
       "{'t-shirt': 125, 'mug': 52, 'hat': 12, 'book': 75, 'keychain': 65}"
      ]
     },
     "execution_count": 9,
     "metadata": {},
     "output_type": "execute_result"
    }
   ],
   "source": [
    "#Define a function named initialize_inventory that takes products as a parameter. Inside the function, implement the code for initializing the inventory dictionary using a loop and user input.\n",
    "# ask for inventory name\n",
    "products = [\"t-shirt\", \"mug\", \"hat\", \"book\", \"keychain\"]\n",
    "inventory = {}\n",
    "\n",
    "def initialize_inventory(products):\n",
    "    for product in products:\n",
    "        inventory[product] = int(input(f\"How many items of product {product} are in the inventory?\"))\n",
    "    return inventory\n",
    "\n",
    "initialize_inventory(products)"
   ]
  },
  {
   "cell_type": "code",
   "execution_count": 11,
   "id": "b7a02f04-2d97-4975-9af9-82b9cdd48303",
   "metadata": {},
   "outputs": [
    {
     "name": "stdout",
     "output_type": "stream",
     "text": [
      "{'t-shirt': 125, 'mug': 52, 'hat': 12, 'book': 75, 'keychain': 65}\n"
     ]
    },
    {
     "name": "stdin",
     "output_type": "stream",
     "text": [
      "Please choose an item you would like to order from the above list. keychain\n"
     ]
    },
    {
     "name": "stdout",
     "output_type": "stream",
     "text": [
      "Thanks, we've added keychain to your order!\n"
     ]
    },
    {
     "name": "stdin",
     "output_type": "stream",
     "text": [
      "Would you like to order anything else? Type 'No' to exit. yes\n"
     ]
    },
    {
     "name": "stdout",
     "output_type": "stream",
     "text": [
      "Okay!\n"
     ]
    },
    {
     "name": "stdin",
     "output_type": "stream",
     "text": [
      "Please choose an item you would like to order from the above list. Banan\n"
     ]
    },
    {
     "name": "stdout",
     "output_type": "stream",
     "text": [
      "Sorry, I'm afraid we don't have banan in our stores\n"
     ]
    },
    {
     "name": "stdin",
     "output_type": "stream",
     "text": [
      "Would you like to order anything else? Type 'No' to exit. yes\n"
     ]
    },
    {
     "name": "stdout",
     "output_type": "stream",
     "text": [
      "Okay!\n"
     ]
    },
    {
     "name": "stdin",
     "output_type": "stream",
     "text": [
      "Please choose an item you would like to order from the above list. book\n"
     ]
    },
    {
     "name": "stdout",
     "output_type": "stream",
     "text": [
      "Thanks, we've added book to your order!\n"
     ]
    },
    {
     "name": "stdin",
     "output_type": "stream",
     "text": [
      "Would you like to order anything else? Type 'No' to exit. yes\n"
     ]
    },
    {
     "name": "stdout",
     "output_type": "stream",
     "text": [
      "Okay!\n"
     ]
    },
    {
     "name": "stdin",
     "output_type": "stream",
     "text": [
      "Please choose an item you would like to order from the above list. mug\n"
     ]
    },
    {
     "name": "stdout",
     "output_type": "stream",
     "text": [
      "Thanks, we've added mug to your order!\n"
     ]
    },
    {
     "name": "stdin",
     "output_type": "stream",
     "text": [
      "Would you like to order anything else? Type 'No' to exit. yes\n"
     ]
    },
    {
     "name": "stdout",
     "output_type": "stream",
     "text": [
      "Okay!\n"
     ]
    },
    {
     "name": "stdin",
     "output_type": "stream",
     "text": [
      "Please choose an item you would like to order from the above list. t-shirt\n"
     ]
    },
    {
     "name": "stdout",
     "output_type": "stream",
     "text": [
      "Thanks, we've added t-shirt to your order!\n"
     ]
    },
    {
     "name": "stdin",
     "output_type": "stream",
     "text": [
      "Would you like to order anything else? Type 'No' to exit. yes\n"
     ]
    },
    {
     "name": "stdout",
     "output_type": "stream",
     "text": [
      "Okay!\n"
     ]
    },
    {
     "name": "stdin",
     "output_type": "stream",
     "text": [
      "Please choose an item you would like to order from the above list. keychain\n"
     ]
    },
    {
     "name": "stdout",
     "output_type": "stream",
     "text": [
      "Thanks, we've added keychain to your order!\n"
     ]
    },
    {
     "name": "stdin",
     "output_type": "stream",
     "text": [
      "Would you like to order anything else? Type 'No' to exit. no\n"
     ]
    },
    {
     "name": "stdout",
     "output_type": "stream",
     "text": [
      "Thanks for ordering with us! We'll get right onto it.\n"
     ]
    },
    {
     "data": {
      "text/plain": [
       "{'book', 'keychain', 'mug', 't-shirt'}"
      ]
     },
     "execution_count": 11,
     "metadata": {},
     "output_type": "execute_result"
    }
   ],
   "source": [
    "customer_order = set()\n",
    "\n",
    "#Define a function named get_customer_orders that takes no parameters. Inside the function, implement the code for prompting the user to enter the product names using a loop. The function should return the customer_orders set.\n",
    "def get_customer_orders():\n",
    "    print(inventory)\n",
    "    while True:\n",
    "        user_choice = input(\"Please choose an item you would like to order from the above list.\").strip().lower()\n",
    "        if user_choice in inventory:\n",
    "            print(f\"Thanks, we've added {user_choice} to your order!\")\n",
    "            customer_order.add(user_choice)\n",
    "        else:    \n",
    "            print(f\"Sorry, I'm afraid we don't have {user_choice} in our stores\")\n",
    "        continue_ordering = input(\"Would you like to order anything else? Type 'No' to exit.\").strip().lower()\n",
    "        if continue_ordering != \"no\":\n",
    "            print(\"Okay!\")\n",
    "        else:\n",
    "            print(\"Thanks for ordering with us! We'll get right onto it.\")\n",
    "            break\n",
    "    return customer_order\n",
    "\n",
    "\n",
    "get_customer_orders()"
   ]
  },
  {
   "cell_type": "code",
   "execution_count": 13,
   "id": "6daf4d84-b117-469d-9029-d7b19632b63f",
   "metadata": {},
   "outputs": [],
   "source": [
    "# Define a function named `update_inventory` that takes `customer_orders` and `inventory` as parameters. Inside the function, implement the code for updating the inventory dictionary based on the customer orders.\n",
    "\n",
    "def update_inventory(customer_order, inventory):\n",
    "    for item in customer_order:\n",
    "        if inventory[item] > 0:\n",
    "            inventory[item] -=1\n",
    "    return                \n",
    "            \n",
    "\n",
    "    print(\"Updated inventory:\")\n",
    "    for product, quantity in inventory.items():\n",
    "        print(f\"{product}: {quantity}\")\n",
    "\n",
    "update_inventory(customer_order, inventory)"
   ]
  },
  {
   "cell_type": "code",
   "execution_count": 15,
   "id": "6adbe324-81cc-4283-90a4-4e5a1a96c23d",
   "metadata": {},
   "outputs": [],
   "source": [
    "#4. Define a function named `calculate_order_statistics` that takes `customer_orders` and `products` as parameters. Inside the function, implement the code for calculating the order statistics (total products ordered, and percentage of unique products ordered). The function should return these values.\n",
    "\n",
    "products = inventory\n",
    "\n",
    "def calculate_order_statistics(customer_order, products):\n",
    "    total_ordered = len(customer_order)\n",
    "    percentage_ordered_hard = (total_ordered / sum(products.values())) * 100\n",
    "    percentage_ordered_rounded2 = round(percentage_ordered_hard, 2)\n",
    "\n",
    "calculate_order_statistics(customer_order, products)"
   ]
  },
  {
   "cell_type": "code",
   "execution_count": 17,
   "id": "c19adc6e-caaa-46c3-ade7-6cab57fd824f",
   "metadata": {},
   "outputs": [
    {
     "name": "stdout",
     "output_type": "stream",
     "text": [
      "Total products ordered are:  4\n",
      "Sales percentage of total inventory:  1.23\n"
     ]
    }
   ],
   "source": [
    "#5. Define a function named `print_order_statistics` that takes `order_statistics` as a parameter. Inside the function, implement the code for printing the order statistics.\n",
    "\n",
    "def print_order_statistics():\n",
    "    total_ordered = len(customer_order)\n",
    "    print(\"Total products ordered are: \",total_ordered)\n",
    "    percentage_ordered_hard = (total_ordered / sum(products.values())) * 100\n",
    "    percentage_ordered_rounded2 = round(percentage_ordered_hard, 2)\n",
    "    print(\"Sales percentage of total inventory: \", percentage_ordered_rounded2)\n",
    "    return\n",
    "\n",
    "\n",
    "print_order_statistics()"
   ]
  },
  {
   "cell_type": "code",
   "execution_count": 19,
   "id": "ab01db08-2b10-49dc-aa5d-c55d6241d04a",
   "metadata": {},
   "outputs": [
    {
     "name": "stdout",
     "output_type": "stream",
     "text": [
      "Updated inventory:\n",
      "t-shirt: 124\n",
      "mug: 51\n",
      "hat: 12\n",
      "book: 74\n",
      "keychain: 64\n"
     ]
    }
   ],
   "source": [
    "#6. Define a function named `print_updated_inventory` that takes `inventory` as a parameter. Inside the function, implement the code for printing the updated inventory.\n",
    "\n",
    "def print_updated_inventory(inventory):\n",
    "    print(\"Updated inventory:\")\n",
    "    for product, quantity in inventory.items():\n",
    "        print(f\"{product}: {quantity}\")\n",
    "    return\n",
    "\n",
    "\n",
    "print_updated_inventory(inventory)"
   ]
  },
  {
   "cell_type": "code",
   "execution_count": null,
   "id": "f8777b77-9ac8-471d-b25b-79c39de9079d",
   "metadata": {},
   "outputs": [],
   "source": []
  }
 ],
 "metadata": {
  "kernelspec": {
   "display_name": "Python 3 (ipykernel)",
   "language": "python",
   "name": "python3"
  },
  "language_info": {
   "codemirror_mode": {
    "name": "ipython",
    "version": 3
   },
   "file_extension": ".py",
   "mimetype": "text/x-python",
   "name": "python",
   "nbconvert_exporter": "python",
   "pygments_lexer": "ipython3",
   "version": "3.12.4"
  }
 },
 "nbformat": 4,
 "nbformat_minor": 5
}
